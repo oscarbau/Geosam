{
 "cells": [
  {
   "cell_type": "code",
   "execution_count": null,
   "id": "c75f7194-375f-471d-a565-6807e5e31be0",
   "metadata": {},
   "outputs": [],
   "source": [
    "import os\n",
    "import folium\n",
    "import torch\n",
    "from samgeo import SamGeo, tms_to_geotiff\n",
    "from shapely.geometry import Polygon\n",
    "import geopandas as gpd"
   ]
  },
  {
   "cell_type": "code",
   "execution_count": null,
   "id": "f9e2d74d-54a0-4858-9369-a7026a8952cd",
   "metadata": {},
   "outputs": [],
   "source": [
    "#bbox = [14.27604402,  9.28422419, 16.36691269, 11.94281461]#[-95.3704, 29.6762, -95.368, 29.6775]\n",
    "#bbox= [15.097455,9.8055,15.1010,9.8079]\n",
    "bbox= [15.094455,9.8255,15.1610,9.9279]\n",
    "polygon_coords = [\n",
    "        [bbox[1], bbox[0]],\n",
    "        [bbox[1], bbox[2]],\n",
    "        [bbox[3], bbox[2]],\n",
    "        [bbox[3], bbox[0]],\n",
    "        [bbox[1], bbox[0]],\n",
    "    ]\n",
    "center = Polygon(polygon_coords).centroid.coords[0]"
   ]
  },
  {
   "cell_type": "code",
   "execution_count": null,
   "id": "583886fe-a151-46c7-9590-41aa8d45efb4",
   "metadata": {},
   "outputs": [],
   "source": [
    "m = folium.Map(location=center, zoom_start=18)\n",
    "# Add the Google Maps basemap to the map\n",
    "#folium.TileLayer('https://mt1.google.com/vt/lyrs=s&x={x}&y={y}&z={z}', attr='Google Maps', name='Hybrid Imagery').add_to(m)\n",
    "#folium.TileLayer('https://mt1.google.com/vt/lyrs=y&x={x}&y={y}&z={z}', attr='Google Maps', name='Hybrid Imagery').add_to(m)\n",
    "folium.TileLayer('https://server.arcgisonline.com/ArcGIS/rest/services/World_Imagery/MapServer/tile/{z}/{y}/{x}', attr='Esri World Imagery', name='Satellite Imagery').add_to(m)\n",
    "# Add the bounding box to the map as a rectangle\n",
    "folium.Polygon(\n",
    "    polygon_coords,\n",
    "    color='red',\n",
    "    #fill_color='red',\n",
    "    fill_opacity=0.2\n",
    ").add_to(m)\n",
    "\n",
    "# Create a layer control and add it to the map\n",
    "folium.LayerControl().add_to(m)\n",
    "# Display the map\n",
    "#m.add_basemap('SATELLITE')\n",
    "m"
   ]
  },
  {
   "cell_type": "code",
   "execution_count": null,
   "id": "56a3b898-9c8b-416d-b4d8-5868f7eedac6",
   "metadata": {},
   "outputs": [],
   "source": [
    "# if m.user_roi_bounds() is not None:\n",
    "#     bbox = m.user_roi_bounds()\n",
    "# else:\n",
    "#     bbox = [-95.3704, 29.6762, -95.368, 29.6775]"
   ]
  },
  {
   "cell_type": "code",
   "execution_count": null,
   "id": "eac667bc-37b5-481f-b3a4-c8a88cd480ff",
   "metadata": {},
   "outputs": [],
   "source": [
    "image = '/Documents/river.tif'\n",
    "# image = '/path/to/your/own/image.tif'"
   ]
  },
  {
   "cell_type": "code",
   "execution_count": null,
   "id": "ef84c7a0-c7a2-434d-8ce5-53bf93040234",
   "metadata": {},
   "outputs": [],
   "source": [
    "source = 'Satellite'\n",
    "#source = https://server.arcgisonline.com/ArcGIS/rest/services/World_Imagery/MapServer/tile/{z}/{y}/{x}\n",
    "tms_to_geotiff(output=image, bbox=bbox, zoom=18, source= source, overwrite=True, quiet=True)"
   ]
  },
  {
   "cell_type": "code",
   "execution_count": null,
   "id": "c2a770a0-adfb-458e-a321-c7c445fc3092",
   "metadata": {},
   "outputs": [],
   "source": [
    "checkpoint = r'C:\\Users\\oscar.bautista\\Downloads\\SAM\\sam_vit_h_4b8939.pth'"
   ]
  },
  {
   "cell_type": "code",
   "execution_count": null,
   "id": "d93166a9-34fa-465b-8855-5c22ee0efe58",
   "metadata": {},
   "outputs": [],
   "source": [
    "device = 'cuda' if torch.cuda.is_available() else 'cpu'\n",
    "sam = SamGeo(\n",
    "    checkpoint=checkpoint,\n",
    "    model_type='vit_h',\n",
    "    device=device,\n",
    "    erosion_kernel=(3, 3),\n",
    "    mask_multiplier=255,\n",
    "    sam_kwargs=None,\n",
    ")"
   ]
  },
  {
   "cell_type": "code",
   "execution_count": null,
   "id": "19351696-8a81-422e-a64d-62b91e215b9e",
   "metadata": {},
   "outputs": [],
   "source": [
    "mask = 'Gabra_segment.tiff'\n",
    "sam.generate(image, mask)"
   ]
  },
  {
   "cell_type": "code",
   "execution_count": null,
   "id": "e3154136-89a9-40ff-adfd-1b3d7edacb9a",
   "metadata": {},
   "outputs": [],
   "source": [
    "shapefile = r'C:\\Geotar\\GLOBAL\\geodata\\workspace\\GEOSAM\\chad_south_segment.shp'\n",
    "sam.tiff_to_vector(mask, shapefile)"
   ]
  },
  {
   "cell_type": "code",
   "execution_count": null,
   "id": "59d599a4-a5be-4978-8f46-ee6b7042e454",
   "metadata": {},
   "outputs": [],
   "source": [
    "import folium\n",
    "import geopandas as gpd\n",
    "\n",
    "# Create a new map centered at a specific location\n",
    "map = folium.Map(location=center, zoom_start=18)\n",
    "\n",
    "# Read the shapefile using geopandas\n",
    "gdf = gpd.read_file(shapefile)\n",
    "\n",
    "# Add the GeoDataFrame as a GeoJSON layer\n",
    "folium.GeoJson(\n",
    "    gdf,\n",
    "    name='Shapefile'\n",
    ").add_to(map)\n",
    "\n",
    "# Add Google Imagery base map\n",
    "#folium.TileLayer('https://mt1.google.com/vt/lyrs=s&x={x}&y={y}&z={z}', name='Google Imagery', attr='Google').add_to(map)\n",
    "\n",
    "# Add Esri Imagery base map\n",
    "folium.TileLayer('https://server.arcgisonline.com/ArcGIS/rest/services/World_Imagery/MapServer/tile/{z}/{y}/{x}', attr='Esri World Imagery', name='Satellite Imagery').add_to(map)\n",
    "\n",
    "\n",
    "# Add Layer Control to toggle layers\n",
    "folium.LayerControl().add_to(map)\n",
    "\n",
    "# Display the map\n",
    "map\n"
   ]
  }
 ],
 "metadata": {
  "kernelspec": {
   "display_name": "Python 3 (ipykernel)",
   "language": "python",
   "name": "python3"
  },
  "language_info": {
   "codemirror_mode": {
    "name": "ipython",
    "version": 3
   },
   "file_extension": ".py",
   "mimetype": "text/x-python",
   "name": "python",
   "nbconvert_exporter": "python",
   "pygments_lexer": "ipython3",
   "version": "3.9.16"
  },
  "toc-showcode": true
 },
 "nbformat": 4,
 "nbformat_minor": 5
}
