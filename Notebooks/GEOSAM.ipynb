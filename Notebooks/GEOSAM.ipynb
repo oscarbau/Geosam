{
 "cells": [
  {
   "cell_type": "code",
   "execution_count": 1,
   "id": "c75f7194-375f-471d-a565-6807e5e31be0",
   "metadata": {},
   "outputs": [],
   "source": [
    "import os\n",
    "#import leafmap\n",
    "import folium\n",
    "import torch\n",
    "from samgeo import SamGeo, tms_to_geotiff\n",
    "from shapely.geometry import Polygon\n",
    "import geopandas as gpd"
   ]
  },
  {
   "cell_type": "code",
   "execution_count": 2,
   "id": "f9e2d74d-54a0-4858-9369-a7026a8952cd",
   "metadata": {},
   "outputs": [],
   "source": [
    "#bbox = [14.27604402,  9.28422419, 16.36691269, 11.94281461]#[-95.3704, 29.6762, -95.368, 29.6775]\n",
    "#bbox= [15.097455,9.8055,15.1010,9.8079]\n",
    "bbox= [15.094455,9.8255,15.1610,9.9279]\n",
    "polygon_coords = [\n",
    "        [bbox[1], bbox[0]],\n",
    "        [bbox[1], bbox[2]],\n",
    "        [bbox[3], bbox[2]],\n",
    "        [bbox[3], bbox[0]],\n",
    "        [bbox[1], bbox[0]],\n",
    "    ]\n",
    "center = Polygon(polygon_coords).centroid.coords[0]"
   ]
  },
  {
   "cell_type": "code",
   "execution_count": 3,
   "id": "583886fe-a151-46c7-9590-41aa8d45efb4",
   "metadata": {},
   "outputs": [
    {
     "data": {
      "text/html": [
       "<div style=\"width:100%;\"><div style=\"position:relative;width:100%;height:0;padding-bottom:60%;\"><span style=\"color:#565656\">Make this Notebook Trusted to load map: File -> Trust Notebook</span><iframe srcdoc=\"&lt;!DOCTYPE html&gt;\n",
       "&lt;html&gt;\n",
       "&lt;head&gt;\n",
       "    \n",
       "    &lt;meta http-equiv=&quot;content-type&quot; content=&quot;text/html; charset=UTF-8&quot; /&gt;\n",
       "    \n",
       "        &lt;script&gt;\n",
       "            L_NO_TOUCH = false;\n",
       "            L_DISABLE_3D = false;\n",
       "        &lt;/script&gt;\n",
       "    \n",
       "    &lt;style&gt;html, body {width: 100%;height: 100%;margin: 0;padding: 0;}&lt;/style&gt;\n",
       "    &lt;style&gt;#map {position:absolute;top:0;bottom:0;right:0;left:0;}&lt;/style&gt;\n",
       "    &lt;script src=&quot;https://cdn.jsdelivr.net/npm/leaflet@1.9.3/dist/leaflet.js&quot;&gt;&lt;/script&gt;\n",
       "    &lt;script src=&quot;https://code.jquery.com/jquery-1.12.4.min.js&quot;&gt;&lt;/script&gt;\n",
       "    &lt;script src=&quot;https://cdn.jsdelivr.net/npm/bootstrap@5.2.2/dist/js/bootstrap.bundle.min.js&quot;&gt;&lt;/script&gt;\n",
       "    &lt;script src=&quot;https://cdnjs.cloudflare.com/ajax/libs/Leaflet.awesome-markers/2.0.2/leaflet.awesome-markers.js&quot;&gt;&lt;/script&gt;\n",
       "    &lt;link rel=&quot;stylesheet&quot; href=&quot;https://cdn.jsdelivr.net/npm/leaflet@1.9.3/dist/leaflet.css&quot;/&gt;\n",
       "    &lt;link rel=&quot;stylesheet&quot; href=&quot;https://cdn.jsdelivr.net/npm/bootstrap@5.2.2/dist/css/bootstrap.min.css&quot;/&gt;\n",
       "    &lt;link rel=&quot;stylesheet&quot; href=&quot;https://netdna.bootstrapcdn.com/bootstrap/3.0.0/css/bootstrap.min.css&quot;/&gt;\n",
       "    &lt;link rel=&quot;stylesheet&quot; href=&quot;https://cdn.jsdelivr.net/npm/@fortawesome/fontawesome-free@6.2.0/css/all.min.css&quot;/&gt;\n",
       "    &lt;link rel=&quot;stylesheet&quot; href=&quot;https://cdnjs.cloudflare.com/ajax/libs/Leaflet.awesome-markers/2.0.2/leaflet.awesome-markers.css&quot;/&gt;\n",
       "    &lt;link rel=&quot;stylesheet&quot; href=&quot;https://cdn.jsdelivr.net/gh/python-visualization/folium/folium/templates/leaflet.awesome.rotate.min.css&quot;/&gt;\n",
       "    \n",
       "            &lt;meta name=&quot;viewport&quot; content=&quot;width=device-width,\n",
       "                initial-scale=1.0, maximum-scale=1.0, user-scalable=no&quot; /&gt;\n",
       "            &lt;style&gt;\n",
       "                #map_0eb51a119fe6c81c7fd2a014e64cac70 {\n",
       "                    position: relative;\n",
       "                    width: 100.0%;\n",
       "                    height: 100.0%;\n",
       "                    left: 0.0%;\n",
       "                    top: 0.0%;\n",
       "                }\n",
       "                .leaflet-container { font-size: 1rem; }\n",
       "            &lt;/style&gt;\n",
       "        \n",
       "&lt;/head&gt;\n",
       "&lt;body&gt;\n",
       "    \n",
       "    \n",
       "            &lt;div class=&quot;folium-map&quot; id=&quot;map_0eb51a119fe6c81c7fd2a014e64cac70&quot; &gt;&lt;/div&gt;\n",
       "        \n",
       "&lt;/body&gt;\n",
       "&lt;script&gt;\n",
       "    \n",
       "    \n",
       "            var map_0eb51a119fe6c81c7fd2a014e64cac70 = L.map(\n",
       "                &quot;map_0eb51a119fe6c81c7fd2a014e64cac70&quot;,\n",
       "                {\n",
       "                    center: [9.8767, 15.127727499999999],\n",
       "                    crs: L.CRS.EPSG3857,\n",
       "                    zoom: 18,\n",
       "                    zoomControl: true,\n",
       "                    preferCanvas: false,\n",
       "                }\n",
       "            );\n",
       "\n",
       "            \n",
       "\n",
       "        \n",
       "    \n",
       "            var tile_layer_26389cce4fc137f6805b2b793c1d4901 = L.tileLayer(\n",
       "                &quot;https://{s}.tile.openstreetmap.org/{z}/{x}/{y}.png&quot;,\n",
       "                {&quot;attribution&quot;: &quot;Data by \\u0026copy; \\u003ca target=\\&quot;_blank\\&quot; href=\\&quot;http://openstreetmap.org\\&quot;\\u003eOpenStreetMap\\u003c/a\\u003e, under \\u003ca target=\\&quot;_blank\\&quot; href=\\&quot;http://www.openstreetmap.org/copyright\\&quot;\\u003eODbL\\u003c/a\\u003e.&quot;, &quot;detectRetina&quot;: false, &quot;maxNativeZoom&quot;: 18, &quot;maxZoom&quot;: 18, &quot;minZoom&quot;: 0, &quot;noWrap&quot;: false, &quot;opacity&quot;: 1, &quot;subdomains&quot;: &quot;abc&quot;, &quot;tms&quot;: false}\n",
       "            ).addTo(map_0eb51a119fe6c81c7fd2a014e64cac70);\n",
       "        \n",
       "    \n",
       "            var tile_layer_39db9df9d8efbec83aa02d5b7368fc51 = L.tileLayer(\n",
       "                &quot;https://server.arcgisonline.com/ArcGIS/rest/services/World_Imagery/MapServer/tile/{z}/{y}/{x}&quot;,\n",
       "                {&quot;attribution&quot;: &quot;Esri World Imagery&quot;, &quot;detectRetina&quot;: false, &quot;maxNativeZoom&quot;: 18, &quot;maxZoom&quot;: 18, &quot;minZoom&quot;: 0, &quot;noWrap&quot;: false, &quot;opacity&quot;: 1, &quot;subdomains&quot;: &quot;abc&quot;, &quot;tms&quot;: false}\n",
       "            ).addTo(map_0eb51a119fe6c81c7fd2a014e64cac70);\n",
       "        \n",
       "    \n",
       "            var polygon_983ea11a30a419bb63510c9f487b1606 = L.polygon(\n",
       "                [[9.8255, 15.094455], [9.8255, 15.161], [9.9279, 15.161], [9.9279, 15.094455], [9.8255, 15.094455]],\n",
       "                {&quot;bubblingMouseEvents&quot;: true, &quot;color&quot;: &quot;red&quot;, &quot;dashArray&quot;: null, &quot;dashOffset&quot;: null, &quot;fill&quot;: false, &quot;fillColor&quot;: &quot;red&quot;, &quot;fillOpacity&quot;: 0.2, &quot;fillRule&quot;: &quot;evenodd&quot;, &quot;lineCap&quot;: &quot;round&quot;, &quot;lineJoin&quot;: &quot;round&quot;, &quot;noClip&quot;: false, &quot;opacity&quot;: 1.0, &quot;smoothFactor&quot;: 1.0, &quot;stroke&quot;: true, &quot;weight&quot;: 3}\n",
       "            ).addTo(map_0eb51a119fe6c81c7fd2a014e64cac70);\n",
       "        \n",
       "    \n",
       "            var layer_control_b93ea872138611644dac1f7c8ab5648e = {\n",
       "                base_layers : {\n",
       "                    &quot;openstreetmap&quot; : tile_layer_26389cce4fc137f6805b2b793c1d4901,\n",
       "                    &quot;Satellite Imagery&quot; : tile_layer_39db9df9d8efbec83aa02d5b7368fc51,\n",
       "                },\n",
       "                overlays :  {\n",
       "                },\n",
       "            };\n",
       "            L.control.layers(\n",
       "                layer_control_b93ea872138611644dac1f7c8ab5648e.base_layers,\n",
       "                layer_control_b93ea872138611644dac1f7c8ab5648e.overlays,\n",
       "                {&quot;autoZIndex&quot;: true, &quot;collapsed&quot;: true, &quot;position&quot;: &quot;topright&quot;}\n",
       "            ).addTo(map_0eb51a119fe6c81c7fd2a014e64cac70);\n",
       "            tile_layer_39db9df9d8efbec83aa02d5b7368fc51.remove();\n",
       "        \n",
       "&lt;/script&gt;\n",
       "&lt;/html&gt;\" style=\"position:absolute;width:100%;height:100%;left:0;top:0;border:none !important;\" allowfullscreen webkitallowfullscreen mozallowfullscreen></iframe></div></div>"
      ],
      "text/plain": [
       "<folium.folium.Map at 0x1176ea34f70>"
      ]
     },
     "execution_count": 3,
     "metadata": {},
     "output_type": "execute_result"
    }
   ],
   "source": [
    "m = folium.Map(location=center, zoom_start=18)\n",
    "# Add the Google Maps basemap to the map\n",
    "#folium.TileLayer('https://mt1.google.com/vt/lyrs=s&x={x}&y={y}&z={z}', attr='Google Maps', name='Hybrid Imagery').add_to(m)\n",
    "#folium.TileLayer('https://mt1.google.com/vt/lyrs=y&x={x}&y={y}&z={z}', attr='Google Maps', name='Hybrid Imagery').add_to(m)\n",
    "folium.TileLayer('https://server.arcgisonline.com/ArcGIS/rest/services/World_Imagery/MapServer/tile/{z}/{y}/{x}', attr='Esri World Imagery', name='Satellite Imagery').add_to(m)\n",
    "# Add the bounding box to the map as a rectangle\n",
    "folium.Polygon(\n",
    "    polygon_coords,\n",
    "    color='red',\n",
    "    #fill_color='red',\n",
    "    fill_opacity=0.2\n",
    ").add_to(m)\n",
    "\n",
    "# Create a layer control and add it to the map\n",
    "folium.LayerControl().add_to(m)\n",
    "# Display the map\n",
    "#m.add_basemap('SATELLITE')\n",
    "m"
   ]
  },
  {
   "cell_type": "code",
   "execution_count": null,
   "id": "56a3b898-9c8b-416d-b4d8-5868f7eedac6",
   "metadata": {},
   "outputs": [],
   "source": [
    "# if m.user_roi_bounds() is not None:\n",
    "#     bbox = m.user_roi_bounds()\n",
    "# else:\n",
    "#     bbox = [-95.3704, 29.6762, -95.368, 29.6775]"
   ]
  },
  {
   "cell_type": "code",
   "execution_count": 10,
   "id": "eac667bc-37b5-481f-b3a4-c8a88cd480ff",
   "metadata": {},
   "outputs": [],
   "source": [
    "image = '/Documents/river.tif'\n",
    "# image = '/path/to/your/own/image.tif'"
   ]
  },
  {
   "cell_type": "code",
   "execution_count": null,
   "id": "ef84c7a0-c7a2-434d-8ce5-53bf93040234",
   "metadata": {},
   "outputs": [],
   "source": [
    "source = 'Satellite'\n",
    "#source = https://server.arcgisonline.com/ArcGIS/rest/services/World_Imagery/MapServer/tile/{z}/{y}/{x}\n",
    "tms_to_geotiff(output=image, bbox=bbox, zoom=18, source= source, overwrite=True, quiet=True)"
   ]
  },
  {
   "cell_type": "code",
   "execution_count": 5,
   "id": "c2a770a0-adfb-458e-a321-c7c445fc3092",
   "metadata": {},
   "outputs": [],
   "source": [
    "checkpoint = r'C:\\Users\\oscar.bautista\\Downloads\\SAM\\sam_vit_h_4b8939.pth'"
   ]
  },
  {
   "cell_type": "code",
   "execution_count": 6,
   "id": "d93166a9-34fa-465b-8855-5c22ee0efe58",
   "metadata": {},
   "outputs": [],
   "source": [
    "device = 'cuda' if torch.cuda.is_available() else 'cpu'\n",
    "sam = SamGeo(\n",
    "    checkpoint=checkpoint,\n",
    "    model_type='vit_h',\n",
    "    device=device,\n",
    "    erosion_kernel=(3, 3),\n",
    "    mask_multiplier=255,\n",
    "    sam_kwargs=None,\n",
    ")"
   ]
  },
  {
   "cell_type": "code",
   "execution_count": 11,
   "id": "19351696-8a81-422e-a64d-62b91e215b9e",
   "metadata": {},
   "outputs": [
    {
     "ename": "RasterioIOError",
     "evalue": "'/Documents/river.tif' does not exist in the file system, and is not recognized as a supported dataset name.",
     "output_type": "error",
     "traceback": [
      "\u001b[1;31m---------------------------------------------------------------------------\u001b[0m",
      "\u001b[1;31mCPLE_OpenFailedError\u001b[0m                      Traceback (most recent call last)",
      "File \u001b[1;32mrasterio\\_base.pyx:307\u001b[0m, in \u001b[0;36mrasterio._base.DatasetBase.__init__\u001b[1;34m()\u001b[0m\n",
      "File \u001b[1;32mrasterio\\_base.pyx:218\u001b[0m, in \u001b[0;36mrasterio._base.open_dataset\u001b[1;34m()\u001b[0m\n",
      "File \u001b[1;32mrasterio\\_err.pyx:221\u001b[0m, in \u001b[0;36mrasterio._err.exc_wrap_pointer\u001b[1;34m()\u001b[0m\n",
      "\u001b[1;31mCPLE_OpenFailedError\u001b[0m: '/Documents/river.tif' does not exist in the file system, and is not recognized as a supported dataset name.",
      "\nDuring handling of the above exception, another exception occurred:\n",
      "\u001b[1;31mRasterioIOError\u001b[0m                           Traceback (most recent call last)",
      "Cell \u001b[1;32mIn[11], line 2\u001b[0m\n\u001b[0;32m      1\u001b[0m mask \u001b[38;5;241m=\u001b[39m \u001b[38;5;124m'\u001b[39m\u001b[38;5;124mGabra_segment.tiff\u001b[39m\u001b[38;5;124m'\u001b[39m\n\u001b[1;32m----> 2\u001b[0m \u001b[43msam\u001b[49m\u001b[38;5;241;43m.\u001b[39;49m\u001b[43mgenerate\u001b[49m\u001b[43m(\u001b[49m\u001b[43mimage\u001b[49m\u001b[43m,\u001b[49m\u001b[43m \u001b[49m\u001b[43mmask\u001b[49m\u001b[43m)\u001b[49m\n",
      "File \u001b[1;32m~\\miniconda3\\envs\\geosam\\lib\\site-packages\\samgeo\\samgeo.py:113\u001b[0m, in \u001b[0;36mSamGeo.generate\u001b[1;34m(self, in_path, out_path, **kwargs)\u001b[0m\n\u001b[0;32m    105\u001b[0m \u001b[38;5;28;01mdef\u001b[39;00m \u001b[38;5;21mgenerate\u001b[39m(\u001b[38;5;28mself\u001b[39m, in_path, out_path, \u001b[38;5;241m*\u001b[39m\u001b[38;5;241m*\u001b[39mkwargs):\n\u001b[0;32m    106\u001b[0m \u001b[38;5;250m    \u001b[39m\u001b[38;5;124;03m\"\"\"Segment the input image and save the result to the output path.\u001b[39;00m\n\u001b[0;32m    107\u001b[0m \n\u001b[0;32m    108\u001b[0m \u001b[38;5;124;03m    Args:\u001b[39;00m\n\u001b[0;32m    109\u001b[0m \u001b[38;5;124;03m        in_path (str): The path to the input image.\u001b[39;00m\n\u001b[0;32m    110\u001b[0m \u001b[38;5;124;03m        out_path (str): The path to the output image.\u001b[39;00m\n\u001b[0;32m    111\u001b[0m \u001b[38;5;124;03m    \"\"\"\u001b[39;00m\n\u001b[1;32m--> 113\u001b[0m     \u001b[38;5;28;01mreturn\u001b[39;00m tiff_to_tiff(in_path, out_path, \u001b[38;5;28mself\u001b[39m, \u001b[38;5;241m*\u001b[39m\u001b[38;5;241m*\u001b[39mkwargs)\n",
      "File \u001b[1;32m~\\miniconda3\\envs\\geosam\\lib\\site-packages\\samgeo\\common.py:599\u001b[0m, in \u001b[0;36mtiff_to_tiff\u001b[1;34m(src_fp, dst_fp, func, data_to_rgb, sample_size, sample_resize, bound)\u001b[0m\n\u001b[0;32m    590\u001b[0m \u001b[38;5;28;01mdef\u001b[39;00m \u001b[38;5;21mtiff_to_tiff\u001b[39m(\n\u001b[0;32m    591\u001b[0m     src_fp,\n\u001b[0;32m    592\u001b[0m     dst_fp,\n\u001b[1;32m   (...)\u001b[0m\n\u001b[0;32m    597\u001b[0m     bound\u001b[38;5;241m=\u001b[39m\u001b[38;5;241m128\u001b[39m,\n\u001b[0;32m    598\u001b[0m ):\n\u001b[1;32m--> 599\u001b[0m     \u001b[38;5;28;01mwith\u001b[39;00m \u001b[43mrasterio\u001b[49m\u001b[38;5;241;43m.\u001b[39;49m\u001b[43mopen\u001b[49m\u001b[43m(\u001b[49m\u001b[43msrc_fp\u001b[49m\u001b[43m)\u001b[49m \u001b[38;5;28;01mas\u001b[39;00m src:\n\u001b[0;32m    600\u001b[0m         profile \u001b[38;5;241m=\u001b[39m src\u001b[38;5;241m.\u001b[39mprofile\n\u001b[0;32m    602\u001b[0m         \u001b[38;5;66;03m# Computer blocks\u001b[39;00m\n",
      "File \u001b[1;32m~\\miniconda3\\envs\\geosam\\lib\\site-packages\\rasterio\\env.py:444\u001b[0m, in \u001b[0;36mensure_env_with_credentials.<locals>.wrapper\u001b[1;34m(*args, **kwds)\u001b[0m\n\u001b[0;32m    441\u001b[0m     session \u001b[38;5;241m=\u001b[39m DummySession()\n\u001b[0;32m    443\u001b[0m \u001b[38;5;28;01mwith\u001b[39;00m env_ctor(session\u001b[38;5;241m=\u001b[39msession):\n\u001b[1;32m--> 444\u001b[0m     \u001b[38;5;28;01mreturn\u001b[39;00m f(\u001b[38;5;241m*\u001b[39margs, \u001b[38;5;241m*\u001b[39m\u001b[38;5;241m*\u001b[39mkwds)\n",
      "File \u001b[1;32m~\\miniconda3\\envs\\geosam\\lib\\site-packages\\rasterio\\__init__.py:304\u001b[0m, in \u001b[0;36mopen\u001b[1;34m(fp, mode, driver, width, height, count, crs, transform, dtype, nodata, sharing, **kwargs)\u001b[0m\n\u001b[0;32m    301\u001b[0m path \u001b[38;5;241m=\u001b[39m _parse_path(raw_dataset_path)\n\u001b[0;32m    303\u001b[0m \u001b[38;5;28;01mif\u001b[39;00m mode \u001b[38;5;241m==\u001b[39m \u001b[38;5;124m\"\u001b[39m\u001b[38;5;124mr\u001b[39m\u001b[38;5;124m\"\u001b[39m:\n\u001b[1;32m--> 304\u001b[0m     dataset \u001b[38;5;241m=\u001b[39m DatasetReader(path, driver\u001b[38;5;241m=\u001b[39mdriver, sharing\u001b[38;5;241m=\u001b[39msharing, \u001b[38;5;241m*\u001b[39m\u001b[38;5;241m*\u001b[39mkwargs)\n\u001b[0;32m    305\u001b[0m \u001b[38;5;28;01melif\u001b[39;00m mode \u001b[38;5;241m==\u001b[39m \u001b[38;5;124m\"\u001b[39m\u001b[38;5;124mr+\u001b[39m\u001b[38;5;124m\"\u001b[39m:\n\u001b[0;32m    306\u001b[0m     dataset \u001b[38;5;241m=\u001b[39m get_writer_for_path(path, driver\u001b[38;5;241m=\u001b[39mdriver)(\n\u001b[0;32m    307\u001b[0m         path, mode, driver\u001b[38;5;241m=\u001b[39mdriver, sharing\u001b[38;5;241m=\u001b[39msharing, \u001b[38;5;241m*\u001b[39m\u001b[38;5;241m*\u001b[39mkwargs\n\u001b[0;32m    308\u001b[0m     )\n",
      "File \u001b[1;32mrasterio\\_base.pyx:309\u001b[0m, in \u001b[0;36mrasterio._base.DatasetBase.__init__\u001b[1;34m()\u001b[0m\n",
      "\u001b[1;31mRasterioIOError\u001b[0m: '/Documents/river.tif' does not exist in the file system, and is not recognized as a supported dataset name."
     ]
    }
   ],
   "source": [
    "mask = 'Gabra_segment.tiff'\n",
    "sam.generate(image, mask)"
   ]
  },
  {
   "cell_type": "code",
   "execution_count": null,
   "id": "e3154136-89a9-40ff-adfd-1b3d7edacb9a",
   "metadata": {},
   "outputs": [],
   "source": [
    "shapefile = r'C:\\Geotar\\GLOBAL\\geodata\\workspace\\GEOSAM\\chad_south_segment.shp'\n",
    "sam.tiff_to_vector(mask, shapefile)"
   ]
  },
  {
   "cell_type": "code",
   "execution_count": null,
   "id": "59d599a4-a5be-4978-8f46-ee6b7042e454",
   "metadata": {},
   "outputs": [],
   "source": [
    "import folium\n",
    "import geopandas as gpd\n",
    "\n",
    "# Create a new map centered at a specific location\n",
    "map = folium.Map(location=center, zoom_start=18)\n",
    "\n",
    "# Read the shapefile using geopandas\n",
    "gdf = gpd.read_file(shapefile)\n",
    "\n",
    "# Reproject the GeoDataFrame to EPSG:4326\n",
    "#gdf = gdf.to_crs('EPSG:4326')\n",
    "\n",
    "# Add the GeoDataFrame as a GeoJSON layer\n",
    "folium.GeoJson(\n",
    "    gdf,\n",
    "    name='Shapefile'\n",
    ").add_to(map)\n",
    "\n",
    "# Add Google Imagery base map\n",
    "#folium.TileLayer('https://mt1.google.com/vt/lyrs=s&x={x}&y={y}&z={z}', name='Google Imagery', attr='Google').add_to(map)\n",
    "\n",
    "# Add Esri Imagery base map\n",
    "folium.TileLayer('https://server.arcgisonline.com/ArcGIS/rest/services/World_Imagery/MapServer/tile/{z}/{y}/{x}', attr='Esri World Imagery', name='Satellite Imagery').add_to(map)\n",
    "\n",
    "\n",
    "# Add Layer Control to toggle layers\n",
    "folium.LayerControl().add_to(map)\n",
    "\n",
    "# Display the map\n",
    "map\n"
   ]
  }
 ],
 "metadata": {
  "kernelspec": {
   "display_name": "Python 3 (ipykernel)",
   "language": "python",
   "name": "python3"
  },
  "language_info": {
   "codemirror_mode": {
    "name": "ipython",
    "version": 3
   },
   "file_extension": ".py",
   "mimetype": "text/x-python",
   "name": "python",
   "nbconvert_exporter": "python",
   "pygments_lexer": "ipython3",
   "version": "3.9.16"
  },
  "toc-showcode": true
 },
 "nbformat": 4,
 "nbformat_minor": 5
}
